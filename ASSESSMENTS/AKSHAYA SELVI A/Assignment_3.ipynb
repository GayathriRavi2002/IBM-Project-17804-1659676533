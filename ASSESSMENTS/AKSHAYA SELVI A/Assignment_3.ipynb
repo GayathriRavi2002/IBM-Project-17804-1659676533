{
  "nbformat": 4,
  "nbformat_minor": 0,
  "metadata": {
    "colab": {
      "provenance": [],
      "collapsed_sections": [],
      "include_colab_link": true
    },
    "kernelspec": {
      "name": "python3",
      "display_name": "Python 3"
    },
    "language_info": {
      "name": "python"
    }
  },
  "cells": [
    {
      "cell_type": "markdown",
      "metadata": {
        "id": "view-in-github",
        "colab_type": "text"
      },
      "source": [
        "<a href=\"https://colab.research.google.com/github/IBM-EPBL/IBM-Project-17804-1659676533/blob/main/ASSESSMENTS/AKSHAYA%20SELVI%20A/Assignment_3.ipynb\" target=\"_parent\"><img src=\"https://colab.research.google.com/assets/colab-badge.svg\" alt=\"Open In Colab\"/></a>"
      ]
    },
    {
      "cell_type": "markdown",
      "source": [
        "2)Image Augmentation"
      ],
      "metadata": {
        "id": "y4WYH4zyUVyM"
      }
    },
    {
      "cell_type": "code",
      "source": [
        "from tensorflow.keras.preprocessing.image import ImageDataGenerator"
      ],
      "metadata": {
        "id": "ALkPT24lUZwM"
      },
      "execution_count": 1,
      "outputs": []
    },
    {
      "cell_type": "code",
      "source": [
        "train_datagen=ImageDataGenerator(rescale=1./255,zoom_range=0.2,horizontal_flip=True,vertical_flip=True)"
      ],
      "metadata": {
        "id": "U_iOkYTaVFmj"
      },
      "execution_count": 2,
      "outputs": []
    },
    {
      "cell_type": "code",
      "source": [
        "test_datagen=ImageDataGenerator(rescale=1./255)"
      ],
      "metadata": {
        "id": "pwNH0zb5VVCp"
      },
      "execution_count": 3,
      "outputs": []
    },
    {
      "cell_type": "markdown",
      "source": [
        "Load Data"
      ],
      "metadata": {
        "id": "GcGeb0sUVcWF"
      }
    },
    {
      "cell_type": "code",
      "source": [
        "from google.colab import drive\n",
        "drive.mount('/content/drive')"
      ],
      "metadata": {
        "colab": {
          "base_uri": "https://localhost:8080/"
        },
        "id": "SWk-B3JvwrBi",
        "outputId": "bc1fecf3-95d6-4b65-d47d-80cab49458bb"
      },
      "execution_count": 5,
      "outputs": [
        {
          "output_type": "stream",
          "name": "stdout",
          "text": [
            "Mounted at /content/drive\n"
          ]
        }
      ]
    },
    {
      "cell_type": "code",
      "source": [
        "x_train=train_datagen.flow_from_directory(r\"/content/drive/MyDrive/Assignment 3/Animal_Dataset/dataset/Training\",target_size=(64,64),class_mode='categorical',batch_size=24)"
      ],
      "metadata": {
        "colab": {
          "base_uri": "https://localhost:8080/"
        },
        "id": "OyCC_6uQVdxh",
        "outputId": "4b6514ad-5756-4733-b2a4-e5e4535de7f6"
      },
      "execution_count": 8,
      "outputs": [
        {
          "output_type": "stream",
          "name": "stdout",
          "text": [
            "Found 1238 images belonging to 4 classes.\n"
          ]
        }
      ]
    },
    {
      "cell_type": "code",
      "source": [
        "x_test=test_datagen.flow_from_directory(r\"/content/drive/MyDrive/Assignment 3/Animal_Dataset/dataset/Testing\",target_size=(64,64),class_mode='categorical',batch_size=24)"
      ],
      "metadata": {
        "colab": {
          "base_uri": "https://localhost:8080/"
        },
        "id": "MkvwQIugWFEa",
        "outputId": "e7940f5a-d6b6-4154-8c14-83803acba4b5"
      },
      "execution_count": 9,
      "outputs": [
        {
          "output_type": "stream",
          "name": "stdout",
          "text": [
            "Found 326 images belonging to 4 classes.\n"
          ]
        }
      ]
    },
    {
      "cell_type": "code",
      "source": [
        "x_train.class_indices"
      ],
      "metadata": {
        "colab": {
          "base_uri": "https://localhost:8080/"
        },
        "id": "kkvJc6geZFYu",
        "outputId": "a2c89b7c-8e24-497f-b14c-593429526d48"
      },
      "execution_count": 10,
      "outputs": [
        {
          "output_type": "execute_result",
          "data": {
            "text/plain": [
              "{'bears': 0, 'crows': 1, 'elephants': 2, 'rats': 3}"
            ]
          },
          "metadata": {},
          "execution_count": 10
        }
      ]
    },
    {
      "cell_type": "code",
      "source": [
        "x_test.class_indices"
      ],
      "metadata": {
        "colab": {
          "base_uri": "https://localhost:8080/"
        },
        "id": "2byqaTSyZMzG",
        "outputId": "c5984b23-f695-44cc-e2f6-518a5bc77f6c"
      },
      "execution_count": 11,
      "outputs": [
        {
          "output_type": "execute_result",
          "data": {
            "text/plain": [
              "{'bears': 0, 'crows': 1, 'elephants': 2, 'rats': 3}"
            ]
          },
          "metadata": {},
          "execution_count": 11
        }
      ]
    },
    {
      "cell_type": "markdown",
      "source": [
        "3)Create Model"
      ],
      "metadata": {
        "id": "_OGHwQ4ZZSI4"
      }
    },
    {
      "cell_type": "code",
      "source": [
        "from tensorflow.keras.models import Sequential"
      ],
      "metadata": {
        "id": "Dbo4rsiWZQfV"
      },
      "execution_count": 12,
      "outputs": []
    },
    {
      "cell_type": "code",
      "source": [
        "from tensorflow.keras.layers import Dense,Convolution2D,MaxPooling2D,Flatten"
      ],
      "metadata": {
        "id": "u5F53DwDZc2J"
      },
      "execution_count": 13,
      "outputs": []
    },
    {
      "cell_type": "code",
      "source": [
        "model=Sequential()"
      ],
      "metadata": {
        "id": "Kh0MJhnzZqvq"
      },
      "execution_count": 16,
      "outputs": []
    },
    {
      "cell_type": "markdown",
      "source": [
        "4)Add Layers"
      ],
      "metadata": {
        "id": "wF9vJMy-ZuQP"
      }
    },
    {
      "cell_type": "markdown",
      "source": [
        "a)Convolution Layer"
      ],
      "metadata": {
        "id": "jXofWbo_baMf"
      }
    },
    {
      "cell_type": "code",
      "source": [
        "model.add(Convolution2D(32,(3,3),kernel_initializer=\"random_uniform\",activation=\"relu\",strides=(1,1),input_shape=(64,64,3)))"
      ],
      "metadata": {
        "id": "qwd0fVdXZyy_"
      },
      "execution_count": 17,
      "outputs": []
    },
    {
      "cell_type": "markdown",
      "source": [
        "b)MaxPooling Layer"
      ],
      "metadata": {
        "id": "qNoWPwELbcqF"
      }
    },
    {
      "cell_type": "code",
      "source": [
        "model.add(MaxPooling2D(pool_size=(2,2)))"
      ],
      "metadata": {
        "id": "9Al05_fObCMm"
      },
      "execution_count": 19,
      "outputs": []
    },
    {
      "cell_type": "markdown",
      "source": [
        "c)Flatten"
      ],
      "metadata": {
        "id": "zRWn36tybfBu"
      }
    },
    {
      "cell_type": "code",
      "source": [
        "model.add(Flatten())"
      ],
      "metadata": {
        "id": "nJiX1yhLbKJl"
      },
      "execution_count": 20,
      "outputs": []
    },
    {
      "cell_type": "markdown",
      "source": [
        "d)Dense(Hidden layer)"
      ],
      "metadata": {
        "id": "ylGKS6JybguJ"
      }
    },
    {
      "cell_type": "code",
      "source": [
        "model.add(Dense(300,activation=\"relu\"))"
      ],
      "metadata": {
        "id": "d0ETXjoTbS5k"
      },
      "execution_count": 21,
      "outputs": []
    },
    {
      "cell_type": "code",
      "source": [
        "model.add(Dense(300,activation=\"relu\"))"
      ],
      "metadata": {
        "id": "GbueLfcXbmie"
      },
      "execution_count": 22,
      "outputs": []
    },
    {
      "cell_type": "markdown",
      "source": [
        "e)Output layer"
      ],
      "metadata": {
        "id": "yGIE4Ku1buCG"
      }
    },
    {
      "cell_type": "code",
      "source": [
        "model.add(Dense(4,activation=\"softmax\"))"
      ],
      "metadata": {
        "id": "YzkiUMUgbv1O"
      },
      "execution_count": 49,
      "outputs": []
    },
    {
      "cell_type": "markdown",
      "source": [
        "5)Compile the model"
      ],
      "metadata": {
        "id": "RzyhjF8CcE_T"
      }
    },
    {
      "cell_type": "code",
      "source": [
        "model.compile(loss=\"categorical_crossentropy\",metrics=['accuracy'],optimizer='adam')"
      ],
      "metadata": {
        "id": "yc2D8UqUcG7N"
      },
      "execution_count": 50,
      "outputs": []
    },
    {
      "cell_type": "markdown",
      "source": [
        "6)Fit the model"
      ],
      "metadata": {
        "id": "Q0mtlruscWgv"
      }
    },
    {
      "cell_type": "code",
      "source": [
        "model.fit(x_train,epochs=4,steps_per_epoch=len(x_train),validation_data=x_test,validation_steps=len(x_test))"
      ],
      "metadata": {
        "colab": {
          "base_uri": "https://localhost:8080/"
        },
        "id": "j7u6oDmzjYNL",
        "outputId": "3c2fcd18-2770-4f22-9608-2bf19c884f49"
      },
      "execution_count": 51,
      "outputs": [
        {
          "output_type": "stream",
          "name": "stdout",
          "text": [
            "Epoch 1/4\n",
            "52/52 [==============================] - 276s 5s/step - loss: 1.3561 - accuracy: 0.3328 - val_loss: 1.3231 - val_accuracy: 0.3006\n",
            "Epoch 2/4\n",
            "52/52 [==============================] - 14s 276ms/step - loss: 1.2574 - accuracy: 0.3901 - val_loss: 1.1829 - val_accuracy: 0.4724\n",
            "Epoch 3/4\n",
            "52/52 [==============================] - 14s 277ms/step - loss: 1.2028 - accuracy: 0.4515 - val_loss: 1.1966 - val_accuracy: 0.5031\n",
            "Epoch 4/4\n",
            "52/52 [==============================] - 15s 281ms/step - loss: 1.1677 - accuracy: 0.4952 - val_loss: 1.1396 - val_accuracy: 0.4785\n"
          ]
        },
        {
          "output_type": "execute_result",
          "data": {
            "text/plain": [
              "<keras.callbacks.History at 0x7f4ca07c0c10>"
            ]
          },
          "metadata": {},
          "execution_count": 51
        }
      ]
    },
    {
      "cell_type": "markdown",
      "source": [
        "7)Save the model"
      ],
      "metadata": {
        "id": "K4g5kJQHsS5t"
      }
    },
    {
      "cell_type": "code",
      "source": [
        "model.save(\"Animals.h5\")"
      ],
      "metadata": {
        "id": "O_UytqELsYfG"
      },
      "execution_count": 53,
      "outputs": []
    },
    {
      "cell_type": "markdown",
      "source": [
        "8)Test the model"
      ],
      "metadata": {
        "id": "s4BSOQlytiqT"
      }
    },
    {
      "cell_type": "code",
      "source": [
        "import numpy as np\n",
        "from tensorflow.keras.models import load_model\n",
        "from tensorflow.keras.preprocessing import image"
      ],
      "metadata": {
        "id": "gNCyyslHtlh5"
      },
      "execution_count": 54,
      "outputs": []
    },
    {
      "cell_type": "code",
      "source": [
        "model=load_model(\"Animals.h5\")"
      ],
      "metadata": {
        "id": "DGYLQeCVt08r"
      },
      "execution_count": 55,
      "outputs": []
    },
    {
      "cell_type": "code",
      "source": [
        "img=image.load_img(r\"/content/drive/MyDrive/Assignment 3/Animal_Dataset/dataset/Training/elephants/elephant_653693__340.jpg\",target_size=(64,64))"
      ],
      "metadata": {
        "id": "aZOkc2nEt6dB"
      },
      "execution_count": 56,
      "outputs": []
    },
    {
      "cell_type": "code",
      "source": [
        "img"
      ],
      "metadata": {
        "colab": {
          "base_uri": "https://localhost:8080/",
          "height": 81
        },
        "id": "VHlngIjmyQRw",
        "outputId": "334bf867-8b0a-47b8-c954-3cea409a1765"
      },
      "execution_count": 57,
      "outputs": [
        {
          "output_type": "execute_result",
          "data": {
            "text/plain": [
              "<PIL.Image.Image image mode=RGB size=64x64 at 0x7F4CA50F9E50>"
            ],
            "image/png": "[encoded data removed]"
          },
          "metadata": {},
          "execution_count": 57
        }
      ]
    },
    {
      "cell_type": "code",
      "source": [
        "x=image.img_to_array(img)"
      ],
      "metadata": {
        "id": "Cm7h-nQ5uMnU"
      },
      "execution_count": 58,
      "outputs": []
    },
    {
      "cell_type": "code",
      "source": [
        "x=np.expand_dims(x,axis=0)"
      ],
      "metadata": {
        "id": "UB4aHhV4yI_0"
      },
      "execution_count": 59,
      "outputs": []
    },
    {
      "cell_type": "code",
      "source": [
        "pred=model.predict(x)"
      ],
      "metadata": {
        "id": "44b1sUSFuePV",
        "colab": {
          "base_uri": "https://localhost:8080/"
        },
        "outputId": "74b351cc-07b6-488d-d6ab-8c107085ddbc"
      },
      "execution_count": 60,
      "outputs": [
        {
          "output_type": "stream",
          "name": "stdout",
          "text": [
            "1/1 [==============================] - 0s 87ms/step\n"
          ]
        }
      ]
    },
    {
      "cell_type": "code",
      "source": [
        "pred"
      ],
      "metadata": {
        "colab": {
          "base_uri": "https://localhost:8080/"
        },
        "id": "XC1ssCMIyT_N",
        "outputId": "b4f23c98-3f7c-4146-b53f-451612fad574"
      },
      "execution_count": 61,
      "outputs": [
        {
          "output_type": "execute_result",
          "data": {
            "text/plain": [
              "array([[0.37020576, 0.08900713, 0.40694243, 0.13384469]], dtype=float32)"
            ]
          },
          "metadata": {},
          "execution_count": 61
        }
      ]
    },
    {
      "cell_type": "code",
      "source": [
        "index=['bears','crows','elephants','rats']"
      ],
      "metadata": {
        "id": "gudpSl7mya9-"
      },
      "execution_count": 62,
      "outputs": []
    },
    {
      "cell_type": "code",
      "source": [
        "index[np.argmax(pred)]"
      ],
      "metadata": {
        "colab": {
          "base_uri": "https://localhost:8080/",
          "height": 35
        },
        "id": "BNmov_x6zB2_",
        "outputId": "f6d72d39-77e0-4d2a-8de8-106d23e3bfea"
      },
      "execution_count": 63,
      "outputs": [
        {
          "output_type": "execute_result",
          "data": {
            "text/plain": [
              "'elephants'"
            ],
            "application/vnd.google.colaboratory.intrinsic+json": {
              "type": "string"
            }
          },
          "metadata": {},
          "execution_count": 63
        }
      ]
    }
  ]
}